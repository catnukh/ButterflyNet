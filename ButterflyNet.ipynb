{
 "cells": [
  {
   "metadata": {
    "ExecuteTime": {
     "end_time": "2025-04-07T22:39:45.936412Z",
     "start_time": "2025-04-07T22:39:39.773967Z"
    }
   },
   "cell_type": "code",
   "source": [
    "import torch.nn as nn\n",
    "import torch.nn.functional as F\n",
    "import torch.optim as optim\n",
    "import matplotlib.pyplot as plt\n",
    "from sklearn.metrics import f1_score\n",
    "from collect_data import *\n",
    "from tqdm import tqdm"
   ],
   "id": "154c027d0a31c739",
   "outputs": [],
   "execution_count": 1
  },
  {
   "metadata": {
    "ExecuteTime": {
     "end_time": "2025-04-07T22:39:46.273089Z",
     "start_time": "2025-04-07T22:39:45.946653Z"
    }
   },
   "cell_type": "code",
   "source": [
    "for img, _ in train_loader:\n",
    "    print(img.shape) \n",
    "    break "
   ],
   "id": "a6fef523570e9e5f",
   "outputs": [
    {
     "name": "stdout",
     "output_type": "stream",
     "text": [
      "torch.Size([64, 3, 150, 150])\n"
     ]
    }
   ],
   "execution_count": 2
  },
  {
   "metadata": {
    "ExecuteTime": {
     "end_time": "2025-04-07T22:39:46.951308Z",
     "start_time": "2025-04-07T22:39:46.931522Z"
    }
   },
   "cell_type": "code",
   "source": [
    "class CNN(nn.Module):\n",
    "    def __init__(self, num_classes=75):\n",
    "        super(CNN, self).__init__()\n",
    "        self.conv_layer1 = nn.Conv2d(in_channels=3, out_channels=32, kernel_size=3, stride=1, padding=1)\n",
    "        self.conv_layer2 = nn.Conv2d(in_channels=32, out_channels=64, kernel_size=3, stride=1, padding=1)\n",
    "        self.conv_layer3 = nn.Conv2d(in_channels=64, out_channels=64, kernel_size=3, stride=1, padding=1)\n",
    "        \n",
    "        self.max_pool = nn.MaxPool2d(kernel_size=2, stride=2)\n",
    "        \n",
    "        self.flatten_size = self._get_flatten_size()\n",
    "        \n",
    "        self.fc1 = nn.Linear(in_features=self.flatten_size, out_features=128)\n",
    "        self.fc2 = nn.Linear(in_features=128, out_features=num_classes)\n",
    "        \n",
    "    def _get_flatten_size(self):\n",
    "        x = torch.randn(1, 3, 150, 150)\n",
    "        x = self.max_pool(F.relu(self.conv_layer1(x)))\n",
    "        x = self.max_pool(F.relu(self.conv_layer2(x)))\n",
    "        x = self.max_pool(F.relu(self.conv_layer3(x)))\n",
    "        return x.view(1, -1).size(1)\n",
    "        \n",
    "    def forward(self, x):\n",
    "        x = F.relu(self.conv_layer1(x))\n",
    "        x = self.max_pool(x)\n",
    "        x = F.relu(self.conv_layer2(x))\n",
    "        x = self.max_pool(x)\n",
    "        x = F.relu(self.conv_layer3(x))\n",
    "        x = self.max_pool(x)\n",
    "        x = x.view(x.size(0), -1)\n",
    "        x = F.relu(self.fc1(x)) \n",
    "        x = self.fc2(x) \n",
    "        \n",
    "        return x"
   ],
   "id": "2fa9786e3d071314",
   "outputs": [],
   "execution_count": 3
  },
  {
   "metadata": {
    "ExecuteTime": {
     "end_time": "2025-04-07T22:39:47.032419Z",
     "start_time": "2025-04-07T22:39:47.027388Z"
    }
   },
   "cell_type": "code",
   "source": "device = torch.device(\"cuda\" if torch.cuda.is_available() else \"cpu\")",
   "id": "1186a7bc6c791b76",
   "outputs": [],
   "execution_count": 4
  },
  {
   "metadata": {
    "ExecuteTime": {
     "end_time": "2025-04-07T22:39:47.147795Z",
     "start_time": "2025-04-07T22:39:47.067651Z"
    }
   },
   "cell_type": "code",
   "source": [
    "model = CNN(num_classes=75).to(device)\n",
    "print(model)"
   ],
   "id": "feb2a63f9278cc49",
   "outputs": [
    {
     "name": "stdout",
     "output_type": "stream",
     "text": [
      "CNN(\n",
      "  (conv_layer1): Conv2d(3, 32, kernel_size=(3, 3), stride=(1, 1), padding=(1, 1))\n",
      "  (conv_layer2): Conv2d(32, 64, kernel_size=(3, 3), stride=(1, 1), padding=(1, 1))\n",
      "  (conv_layer3): Conv2d(64, 64, kernel_size=(3, 3), stride=(1, 1), padding=(1, 1))\n",
      "  (max_pool): MaxPool2d(kernel_size=2, stride=2, padding=0, dilation=1, ceil_mode=False)\n",
      "  (fc1): Linear(in_features=20736, out_features=128, bias=True)\n",
      "  (fc2): Linear(in_features=128, out_features=75, bias=True)\n",
      ")\n"
     ]
    }
   ],
   "execution_count": 5
  },
  {
   "metadata": {
    "ExecuteTime": {
     "end_time": "2025-04-07T22:39:47.193830Z",
     "start_time": "2025-04-07T22:39:47.187718Z"
    }
   },
   "cell_type": "code",
   "source": [
    "loss_fn = nn.CrossEntropyLoss()\n",
    "optimizer = optim.Adam(model.parameters(), lr=0.001)"
   ],
   "id": "5b1b2c74171352b0",
   "outputs": [],
   "execution_count": 6
  },
  {
   "metadata": {
    "ExecuteTime": {
     "end_time": "2025-04-07T22:39:47.254117Z",
     "start_time": "2025-04-07T22:39:47.238160Z"
    }
   },
   "cell_type": "code",
   "source": [
    "def train(model, num_epochs, loss_fn=loss_fn, train_loader=train_loader, optimizer=optimizer, device=device):\n",
    "    train_loss = []\n",
    "    val_loss = []\n",
    "    train_acc = []\n",
    "    val_acc = []\n",
    "    \n",
    "    for epoch in range(num_epochs):\n",
    "        total_loss = 0\n",
    "        correct_train = 0\n",
    "        total_train = 0\n",
    "        \n",
    "        for batch in tqdm(train_loader):\n",
    "            images, labels = batch\n",
    "            images, labels = images.to(device), labels.to(device)\n",
    "            optimizer.zero_grad()\n",
    "            outputs = model(images)\n",
    "            loss = loss_fn(outputs, labels)\n",
    "            loss.backward()\n",
    "            optimizer.step()\n",
    "            total_loss += loss.item()\n",
    "            total_train += labels.size(0)\n",
    "            \n",
    "            _, predicted = torch.max(outputs.data, 1)\n",
    "            correct_train += (predicted == labels).sum().item()\n",
    "            \n",
    "        acc_train = 100 * correct_train / total_train\n",
    "        train_acc.append(acc_train)\n",
    "        avg_train_loss = total_loss / len(train_loader)\n",
    "        train_loss.append(avg_train_loss)\n",
    "        \n",
    "        model.eval()\n",
    "        loss_val = 0\n",
    "        correct_val = 0\n",
    "        total_val = 0\n",
    "        \n",
    "        with torch.no_grad():\n",
    "            for batch in tqdm(val_loader):\n",
    "                images, labels = batch\n",
    "                images, labels = images.to(device), labels.to(device)\n",
    "\n",
    "                outputs = model(images)\n",
    "                loss = loss_fn(outputs, labels)\n",
    "\n",
    "                loss_val += loss.item()\n",
    "                total_val += labels.size(0)\n",
    "                \n",
    "                _, predicted = torch.max(outputs.data, 1)\n",
    "                correct_val += (predicted == labels).sum().item()\n",
    "                \n",
    "        acc_val = 100 * correct_val / total_val\n",
    "        val_acc.append(acc_val)\n",
    "        avg_val_loss = total_loss / len(val_loader)\n",
    "        val_loss.append(avg_val_loss)\n",
    "        \n",
    "        print(f\"Epoch ({epoch+1}/{num_epochs}) train accuracy: {acc_train}, val accuracy: {acc_val}, train loss: {avg_train_loss}, val loss: {avg_val_loss}\")\n",
    "        \n",
    "    return train_loss, val_loss, train_acc, val_acc"
   ],
   "id": "36b96e6ce1f3ad3b",
   "outputs": [],
   "execution_count": 7
  },
  {
   "metadata": {
    "ExecuteTime": {
     "end_time": "2025-04-07T22:39:47.295624Z",
     "start_time": "2025-04-07T22:39:47.287405Z"
    }
   },
   "cell_type": "code",
   "source": [
    "def plot_training_curve(train_acc, val_acc, train_loss, val_loss):\n",
    "    threshold = 95\n",
    "    plt.figure(figsize=(10, 6))\n",
    "    plt.plot(train_acc, label='Train Accuracy')\n",
    "    plt.plot(val_acc, label='Validation Accuracy')\n",
    "    plt.plot(train_loss, label='Train Loss')\n",
    "    plt.plot(val_loss, label='Validation Loss')\n",
    "    \n",
    "    plt.axhline(y=threshold, color='r', linestyle='--', label='Threshold (95%)')\n",
    "    \n",
    "    plt.xlabel(\"Epoch\")\n",
    "    plt.ylabel(\"Metric\")\n",
    "    plt.title(\"Training & Validation Metrics\")\n",
    "    plt.legend()\n",
    "    plt.grid(True)\n",
    "    plt.show()"
   ],
   "id": "8ea7a438baef8fc0",
   "outputs": [],
   "execution_count": 8
  },
  {
   "metadata": {
    "ExecuteTime": {
     "end_time": "2025-04-07T23:48:57.604726Z",
     "start_time": "2025-04-07T22:39:47.338774Z"
    }
   },
   "cell_type": "code",
   "source": [
    "train_loss, val_loss, train_acc, val_acc = train(model, num_epochs=30)\n",
    "plot_training_curve(train_acc, val_acc, train_loss, val_loss)"
   ],
   "id": "27baadf7c37cd8d1",
   "outputs": [
    {
     "name": "stderr",
     "output_type": "stream",
     "text": [
      "100%|██████████| 82/82 [02:02<00:00,  1.49s/it]\n",
      "100%|██████████| 21/21 [00:14<00:00,  1.43it/s]\n"
     ]
    },
    {
     "name": "stdout",
     "output_type": "stream",
     "text": [
      "Epoch (1/30) train accuracy: 10.059626851317562, val accuracy: 15.76923076923077, train loss: 3.752665141733681, val loss: 14.653263886769613\n"
     ]
    },
    {
     "name": "stderr",
     "output_type": "stream",
     "text": [
      "100%|██████████| 82/82 [02:00<00:00,  1.46s/it]\n",
      "100%|██████████| 21/21 [00:14<00:00,  1.43it/s]\n"
     ]
    },
    {
     "name": "stdout",
     "output_type": "stream",
     "text": [
      "Epoch (2/30) train accuracy: 27.79380650125024, val accuracy: 34.69230769230769, train loss: 2.720767625948278, val loss: 10.623949777512323\n"
     ]
    },
    {
     "name": "stderr",
     "output_type": "stream",
     "text": [
      "100%|██████████| 82/82 [02:02<00:00,  1.49s/it]\n",
      "100%|██████████| 21/21 [00:15<00:00,  1.39it/s]\n"
     ]
    },
    {
     "name": "stdout",
     "output_type": "stream",
     "text": [
      "Epoch (3/30) train accuracy: 39.73841123292941, val accuracy: 44.0, train loss: 2.1589299905590895, val loss: 8.430107582183112\n"
     ]
    },
    {
     "name": "stderr",
     "output_type": "stream",
     "text": [
      "100%|██████████| 82/82 [01:59<00:00,  1.46s/it]\n",
      "100%|██████████| 21/21 [00:14<00:00,  1.41it/s]\n"
     ]
    },
    {
     "name": "stdout",
     "output_type": "stream",
     "text": [
      "Epoch (4/30) train accuracy: 47.989998076553185, val accuracy: 48.07692307692308, train loss: 1.8313940996077003, val loss: 7.151157912753877\n"
     ]
    },
    {
     "name": "stderr",
     "output_type": "stream",
     "text": [
      "100%|██████████| 82/82 [01:59<00:00,  1.46s/it]\n",
      "100%|██████████| 21/21 [00:14<00:00,  1.42it/s]\n"
     ]
    },
    {
     "name": "stdout",
     "output_type": "stream",
     "text": [
      "Epoch (5/30) train accuracy: 53.35641469513368, val accuracy: 52.15384615384615, train loss: 1.63110206476072, val loss: 6.3690652052561445\n"
     ]
    },
    {
     "name": "stderr",
     "output_type": "stream",
     "text": [
      "100%|██████████| 82/82 [02:00<00:00,  1.47s/it]\n",
      "100%|██████████| 21/21 [00:14<00:00,  1.45it/s]\n"
     ]
    },
    {
     "name": "stdout",
     "output_type": "stream",
     "text": [
      "Epoch (6/30) train accuracy: 57.66493556453164, val accuracy: 51.84615384615385, train loss: 1.4866648636213162, val loss: 5.805072324616568\n"
     ]
    },
    {
     "name": "stderr",
     "output_type": "stream",
     "text": [
      "100%|██████████| 82/82 [01:59<00:00,  1.46s/it]\n",
      "100%|██████████| 21/21 [00:14<00:00,  1.42it/s]\n"
     ]
    },
    {
     "name": "stdout",
     "output_type": "stream",
     "text": [
      "Epoch (7/30) train accuracy: 60.28082323523755, val accuracy: 54.15384615384615, train loss: 1.3567915049994863, val loss: 5.297947781426566\n"
     ]
    },
    {
     "name": "stderr",
     "output_type": "stream",
     "text": [
      "100%|██████████| 82/82 [01:59<00:00,  1.45s/it]\n",
      "100%|██████████| 21/21 [00:14<00:00,  1.44it/s]\n"
     ]
    },
    {
     "name": "stdout",
     "output_type": "stream",
     "text": [
      "Epoch (8/30) train accuracy: 64.10848240046163, val accuracy: 56.15384615384615, train loss: 1.227429581851494, val loss: 4.792820271991548\n"
     ]
    },
    {
     "name": "stderr",
     "output_type": "stream",
     "text": [
      "100%|██████████| 82/82 [01:59<00:00,  1.46s/it]\n",
      "100%|██████████| 21/21 [00:15<00:00,  1.39it/s]\n"
     ]
    },
    {
     "name": "stdout",
     "output_type": "stream",
     "text": [
      "Epoch (9/30) train accuracy: 66.64743219849971, val accuracy: 55.84615384615385, train loss: 1.1214470521705906, val loss: 4.378983727523258\n"
     ]
    },
    {
     "name": "stderr",
     "output_type": "stream",
     "text": [
      "100%|██████████| 82/82 [02:00<00:00,  1.47s/it]\n",
      "100%|██████████| 21/21 [00:14<00:00,  1.45it/s]\n"
     ]
    },
    {
     "name": "stdout",
     "output_type": "stream",
     "text": [
      "Epoch (10/30) train accuracy: 69.37872667820734, val accuracy: 57.92307692307692, train loss: 1.0360303913674704, val loss: 4.045452004387265\n"
     ]
    },
    {
     "name": "stderr",
     "output_type": "stream",
     "text": [
      "100%|██████████| 82/82 [01:59<00:00,  1.46s/it]\n",
      "100%|██████████| 21/21 [00:14<00:00,  1.45it/s]\n"
     ]
    },
    {
     "name": "stdout",
     "output_type": "stream",
     "text": [
      "Epoch (11/30) train accuracy: 71.28293902673592, val accuracy: 58.07692307692308, train loss: 0.9725005299579806, val loss: 3.7973830217406865\n"
     ]
    },
    {
     "name": "stderr",
     "output_type": "stream",
     "text": [
      "100%|██████████| 82/82 [01:59<00:00,  1.45s/it]\n",
      "100%|██████████| 21/21 [00:14<00:00,  1.43it/s]\n"
     ]
    },
    {
     "name": "stdout",
     "output_type": "stream",
     "text": [
      "Epoch (12/30) train accuracy: 73.49490286593576, val accuracy: 60.15384615384615, train loss: 0.910784248171783, val loss: 3.556395635718391\n"
     ]
    },
    {
     "name": "stderr",
     "output_type": "stream",
     "text": [
      "100%|██████████| 82/82 [01:59<00:00,  1.46s/it]\n",
      "100%|██████████| 21/21 [00:14<00:00,  1.44it/s]\n"
     ]
    },
    {
     "name": "stdout",
     "output_type": "stream",
     "text": [
      "Epoch (13/30) train accuracy: 75.16830159646086, val accuracy: 60.53846153846154, train loss: 0.8293788625699717, val loss: 3.238526987177985\n"
     ]
    },
    {
     "name": "stderr",
     "output_type": "stream",
     "text": [
      "100%|██████████| 82/82 [02:00<00:00,  1.47s/it]\n",
      "100%|██████████| 21/21 [00:16<00:00,  1.27it/s]\n"
     ]
    },
    {
     "name": "stdout",
     "output_type": "stream",
     "text": [
      "Epoch (14/30) train accuracy: 75.4952875552991, val accuracy: 60.61538461538461, train loss: 0.8068680828664361, val loss: 3.1506277521451316\n"
     ]
    },
    {
     "name": "stderr",
     "output_type": "stream",
     "text": [
      "100%|██████████| 82/82 [02:06<00:00,  1.55s/it]\n",
      "100%|██████████| 21/21 [00:15<00:00,  1.37it/s]\n"
     ]
    },
    {
     "name": "stdout",
     "output_type": "stream",
     "text": [
      "Epoch (15/30) train accuracy: 76.6493556453164, val accuracy: 61.30769230769231, train loss: 0.7560961733504039, val loss: 2.9523755340349105\n"
     ]
    },
    {
     "name": "stderr",
     "output_type": "stream",
     "text": [
      "100%|██████████| 82/82 [02:07<00:00,  1.56s/it]\n",
      "100%|██████████| 21/21 [00:15<00:00,  1.37it/s]\n"
     ]
    },
    {
     "name": "stdout",
     "output_type": "stream",
     "text": [
      "Epoch (16/30) train accuracy: 77.78418926716677, val accuracy: 62.30769230769231, train loss: 0.7076836362844561, val loss: 2.7633361035869237\n"
     ]
    },
    {
     "name": "stderr",
     "output_type": "stream",
     "text": [
      "100%|██████████| 82/82 [02:05<00:00,  1.53s/it]\n",
      "100%|██████████| 21/21 [00:15<00:00,  1.36it/s]\n"
     ]
    },
    {
     "name": "stdout",
     "output_type": "stream",
     "text": [
      "Epoch (17/30) train accuracy: 79.36141565685709, val accuracy: 59.76923076923077, train loss: 0.6661175078735119, val loss: 2.6010302688394273\n"
     ]
    },
    {
     "name": "stderr",
     "output_type": "stream",
     "text": [
      "100%|██████████| 82/82 [02:03<00:00,  1.50s/it]\n",
      "100%|██████████| 21/21 [00:15<00:00,  1.39it/s]\n"
     ]
    },
    {
     "name": "stdout",
     "output_type": "stream",
     "text": [
      "Epoch (18/30) train accuracy: 79.95768417003269, val accuracy: 60.69230769230769, train loss: 0.6606015155955058, val loss: 2.5794916323253085\n"
     ]
    },
    {
     "name": "stderr",
     "output_type": "stream",
     "text": [
      "100%|██████████| 82/82 [02:04<00:00,  1.51s/it]\n",
      "100%|██████████| 21/21 [00:14<00:00,  1.42it/s]\n"
     ]
    },
    {
     "name": "stdout",
     "output_type": "stream",
     "text": [
      "Epoch (19/30) train accuracy: 81.68878630505867, val accuracy: 64.07692307692308, train loss: 0.5902849922819835, val loss: 2.3049223508153642\n"
     ]
    },
    {
     "name": "stderr",
     "output_type": "stream",
     "text": [
      "100%|██████████| 82/82 [02:02<00:00,  1.50s/it]\n",
      "100%|██████████| 21/21 [00:14<00:00,  1.42it/s]\n"
     ]
    },
    {
     "name": "stdout",
     "output_type": "stream",
     "text": [
      "Epoch (20/30) train accuracy: 82.1888824773995, val accuracy: 63.46153846153846, train loss: 0.5479162244535074, val loss: 2.139482400247029\n"
     ]
    },
    {
     "name": "stderr",
     "output_type": "stream",
     "text": [
      "100%|██████████| 82/82 [02:02<00:00,  1.49s/it]\n",
      "100%|██████████| 21/21 [00:15<00:00,  1.36it/s]\n"
     ]
    },
    {
     "name": "stdout",
     "output_type": "stream",
     "text": [
      "Epoch (21/30) train accuracy: 83.1313714175803, val accuracy: 63.0, train loss: 0.5364495915610615, val loss: 2.0947079289527166\n"
     ]
    },
    {
     "name": "stderr",
     "output_type": "stream",
     "text": [
      "100%|██████████| 82/82 [02:02<00:00,  1.50s/it]\n",
      "100%|██████████| 21/21 [00:14<00:00,  1.41it/s]\n"
     ]
    },
    {
     "name": "stdout",
     "output_type": "stream",
     "text": [
      "Epoch (22/30) train accuracy: 84.11232929409502, val accuracy: 62.69230769230769, train loss: 0.5029798191858501, val loss: 1.9640164368209385\n"
     ]
    },
    {
     "name": "stderr",
     "output_type": "stream",
     "text": [
      "100%|██████████| 82/82 [02:04<00:00,  1.51s/it]\n",
      "100%|██████████| 21/21 [00:14<00:00,  1.43it/s]\n"
     ]
    },
    {
     "name": "stdout",
     "output_type": "stream",
     "text": [
      "Epoch (23/30) train accuracy: 85.11252163877668, val accuracy: 62.0, train loss: 0.4824178158873465, val loss: 1.883726709655353\n"
     ]
    },
    {
     "name": "stderr",
     "output_type": "stream",
     "text": [
      "100%|██████████| 82/82 [02:11<00:00,  1.61s/it]\n",
      "100%|██████████| 21/21 [00:27<00:00,  1.33s/it]\n"
     ]
    },
    {
     "name": "stdout",
     "output_type": "stream",
     "text": [
      "Epoch (24/30) train accuracy: 85.22792844777842, val accuracy: 63.15384615384615, train loss: 0.46259059866027136, val loss: 1.806306147149631\n"
     ]
    },
    {
     "name": "stderr",
     "output_type": "stream",
     "text": [
      "100%|██████████| 82/82 [02:20<00:00,  1.72s/it]\n",
      "100%|██████████| 21/21 [00:15<00:00,  1.35it/s]\n"
     ]
    },
    {
     "name": "stdout",
     "output_type": "stream",
     "text": [
      "Epoch (25/30) train accuracy: 86.49740334679746, val accuracy: 63.61538461538461, train loss: 0.4246389351603461, val loss: 1.6581139372927802\n"
     ]
    },
    {
     "name": "stderr",
     "output_type": "stream",
     "text": [
      "100%|██████████| 82/82 [02:03<00:00,  1.51s/it]\n",
      "100%|██████████| 21/21 [00:15<00:00,  1.35it/s]\n"
     ]
    },
    {
     "name": "stdout",
     "output_type": "stream",
     "text": [
      "Epoch (26/30) train accuracy: 87.01673398730524, val accuracy: 63.38461538461539, train loss: 0.4100805857196087, val loss: 1.6012670490003766\n"
     ]
    },
    {
     "name": "stderr",
     "output_type": "stream",
     "text": [
      "100%|██████████| 82/82 [02:02<00:00,  1.49s/it]\n",
      "100%|██████████| 21/21 [00:15<00:00,  1.39it/s]\n"
     ]
    },
    {
     "name": "stdout",
     "output_type": "stream",
     "text": [
      "Epoch (27/30) train accuracy: 86.9974995191383, val accuracy: 62.07692307692308, train loss: 0.41274486682037026, val loss: 1.6116704323462077\n"
     ]
    },
    {
     "name": "stderr",
     "output_type": "stream",
     "text": [
      "100%|██████████| 82/82 [02:01<00:00,  1.49s/it]\n",
      "100%|██████████| 21/21 [00:14<00:00,  1.44it/s]\n"
     ]
    },
    {
     "name": "stdout",
     "output_type": "stream",
     "text": [
      "Epoch (28/30) train accuracy: 87.40142335064435, val accuracy: 64.61538461538461, train loss: 0.3838694090159928, val loss: 1.4989186447291147\n"
     ]
    },
    {
     "name": "stderr",
     "output_type": "stream",
     "text": [
      "100%|██████████| 82/82 [02:01<00:00,  1.48s/it]\n",
      "100%|██████████| 21/21 [00:16<00:00,  1.28it/s]\n"
     ]
    },
    {
     "name": "stdout",
     "output_type": "stream",
     "text": [
      "Epoch (29/30) train accuracy: 88.3246778226582, val accuracy: 62.76923076923077, train loss: 0.3526579795814142, val loss: 1.377045444079808\n"
     ]
    },
    {
     "name": "stderr",
     "output_type": "stream",
     "text": [
      "100%|██████████| 82/82 [02:00<00:00,  1.47s/it]\n",
      "100%|██████████| 21/21 [00:15<00:00,  1.34it/s]\n"
     ]
    },
    {
     "name": "stdout",
     "output_type": "stream",
     "text": [
      "Epoch (30/30) train accuracy: 89.32487016733987, val accuracy: 60.92307692307692, train loss: 0.3367117269918686, val loss: 1.3147791244444393\n"
     ]
    },
    {
     "data": {
      "text/plain": [
       "<Figure size 1000x600 with 1 Axes>"
      ],
      "image/png": "[encoded data removed]"
     },
     "metadata": {},
     "output_type": "display_data"
    }
   ],
   "execution_count": 9
  },
  {
   "metadata": {
    "ExecuteTime": {
     "end_time": "2025-04-08T02:25:31.157856Z",
     "start_time": "2025-04-08T02:25:31.131750Z"
    }
   },
   "cell_type": "code",
   "source": [
    "class CNN_v2(nn.Module):\n",
    "    def __init__(self, num_classes=75):\n",
    "        super(CNN_v2, self).__init__()\n",
    "        self.conv_layer1 = nn.Conv2d(in_channels=3, out_channels=32, kernel_size=3, stride=1, padding=1)\n",
    "        self.conv_layer2 = nn.Conv2d(in_channels=32, out_channels=64, kernel_size=5, stride=1, padding=1)\n",
    "        self.conv_layer3 = nn.Conv2d(in_channels=64, out_channels=64, kernel_size=5, stride=1, padding=1)\n",
    "        \n",
    "        self.max_pool = nn.MaxPool2d(kernel_size=2, stride=2)\n",
    "        \n",
    "        self.flatten_size = self._get_flatten_size()\n",
    "        \n",
    "        #out features 256 instead of 128\n",
    "        self.fc1 = nn.Linear(in_features=self.flatten_size, out_features=256)\n",
    "        self.fc2 = nn.Linear(in_features=256, out_features=num_classes)\n",
    "        \n",
    "    def _get_flatten_size(self):\n",
    "        x = torch.randn(1, 3, 150, 150)\n",
    "        x = self.max_pool(F.relu(self.conv_layer1(x)))\n",
    "        x = self.max_pool(F.relu(self.conv_layer2(x)))\n",
    "        x = self.max_pool(F.relu(self.conv_layer3(x)))\n",
    "        return x.view(1, -1).size(1)\n",
    "        \n",
    "    def forward(self, x):\n",
    "        x = F.relu(self.conv_layer1(x))\n",
    "        x = self.max_pool(x)\n",
    "        x = F.relu(self.conv_layer2(x))\n",
    "        x = self.max_pool(x)\n",
    "        x = F.relu(self.conv_layer3(x))\n",
    "        x = self.max_pool(x)\n",
    "        x = x.view(x.size(0), -1)\n",
    "        x = F.relu(self.fc1(x)) \n",
    "        x = self.fc2(x) \n",
    "        \n",
    "        return x"
   ],
   "id": "65c88fb076e43627",
   "outputs": [],
   "execution_count": 15
  },
  {
   "metadata": {
    "ExecuteTime": {
     "end_time": "2025-04-08T02:25:32.260421Z",
     "start_time": "2025-04-08T02:25:32.165796Z"
    }
   },
   "cell_type": "code",
   "source": [
    "model_v2 = CNN_v2(75).to(device)\n",
    "optimizer_v2 = optim.Adam(model_v2.parameters(), lr=0.001)\n",
    "print(model_v2)"
   ],
   "id": "485625d0d471d62c",
   "outputs": [
    {
     "name": "stdout",
     "output_type": "stream",
     "text": [
      "CNN_v2(\n",
      "  (conv_layer1): Conv2d(3, 32, kernel_size=(3, 3), stride=(1, 1), padding=(1, 1))\n",
      "  (conv_layer2): Conv2d(32, 64, kernel_size=(5, 5), stride=(1, 1), padding=(1, 1))\n",
      "  (conv_layer3): Conv2d(64, 64, kernel_size=(5, 5), stride=(1, 1), padding=(1, 1))\n",
      "  (max_pool): MaxPool2d(kernel_size=2, stride=2, padding=0, dilation=1, ceil_mode=False)\n",
      "  (fc1): Linear(in_features=18496, out_features=256, bias=True)\n",
      "  (fc2): Linear(in_features=256, out_features=75, bias=True)\n",
      ")\n"
     ]
    }
   ],
   "execution_count": 16
  },
  {
   "metadata": {
    "ExecuteTime": {
     "end_time": "2025-04-08T04:05:35.240120Z",
     "start_time": "2025-04-08T02:25:35.367239Z"
    }
   },
   "cell_type": "code",
   "source": [
    "train_loss, val_loss, train_acc, val_acc = train(model_v2, optimizer=optimizer_v2, num_epochs=30)\n",
    "plot_training_curve(train_acc, val_acc, train_loss, val_loss)"
   ],
   "id": "4a8208f70139be04",
   "outputs": [
    {
     "name": "stderr",
     "output_type": "stream",
     "text": [
      "100%|██████████| 82/82 [02:55<00:00,  2.14s/it]\n",
      "100%|██████████| 21/21 [00:17<00:00,  1.22it/s]\n"
     ]
    },
    {
     "name": "stdout",
     "output_type": "stream",
     "text": [
      "Epoch (1/30) train accuracy: 10.175033660319292, val accuracy: 19.307692307692307, train loss: 3.5788622949181534, val loss: 13.97460515158517\n"
     ]
    },
    {
     "name": "stderr",
     "output_type": "stream",
     "text": [
      "100%|██████████| 82/82 [02:34<00:00,  1.89s/it]\n",
      "100%|██████████| 21/21 [00:18<00:00,  1.15it/s]\n"
     ]
    },
    {
     "name": "stdout",
     "output_type": "stream",
     "text": [
      "Epoch (2/30) train accuracy: 26.67820734756684, val accuracy: 32.76923076923077, train loss: 2.786926188120028, val loss: 10.882283210754395\n"
     ]
    },
    {
     "name": "stderr",
     "output_type": "stream",
     "text": [
      "100%|██████████| 82/82 [02:34<00:00,  1.89s/it]\n",
      "100%|██████████| 21/21 [00:18<00:00,  1.16it/s]\n"
     ]
    },
    {
     "name": "stdout",
     "output_type": "stream",
     "text": [
      "Epoch (3/30) train accuracy: 39.93075591459896, val accuracy: 42.69230769230769, train loss: 2.215906833730093, val loss: 8.652588588850838\n"
     ]
    },
    {
     "name": "stderr",
     "output_type": "stream",
     "text": [
      "100%|██████████| 82/82 [02:50<00:00,  2.08s/it]\n",
      "100%|██████████| 21/21 [00:20<00:00,  1.04it/s]\n"
     ]
    },
    {
     "name": "stdout",
     "output_type": "stream",
     "text": [
      "Epoch (4/30) train accuracy: 49.06712829390268, val accuracy: 47.61538461538461, train loss: 1.8407221858094378, val loss: 7.187581868398757\n"
     ]
    },
    {
     "name": "stderr",
     "output_type": "stream",
     "text": [
      "100%|██████████| 82/82 [02:56<00:00,  2.15s/it]\n",
      "100%|██████████| 21/21 [00:19<00:00,  1.08it/s]\n"
     ]
    },
    {
     "name": "stdout",
     "output_type": "stream",
     "text": [
      "Epoch (5/30) train accuracy: 54.048855549144065, val accuracy: 51.23076923076923, train loss: 1.6136627299029653, val loss: 6.3009687548591975\n"
     ]
    },
    {
     "name": "stderr",
     "output_type": "stream",
     "text": [
      "100%|██████████| 82/82 [02:44<00:00,  2.01s/it]\n",
      "100%|██████████| 21/21 [00:18<00:00,  1.15it/s]\n"
     ]
    },
    {
     "name": "stdout",
     "output_type": "stream",
     "text": [
      "Epoch (6/30) train accuracy: 58.14579726870552, val accuracy: 54.0, train loss: 1.4297028852672111, val loss: 5.582649361519587\n"
     ]
    },
    {
     "name": "stderr",
     "output_type": "stream",
     "text": [
      "100%|██████████| 82/82 [03:03<00:00,  2.24s/it]\n",
      "100%|██████████| 21/21 [00:17<00:00,  1.17it/s]\n"
     ]
    },
    {
     "name": "stdout",
     "output_type": "stream",
     "text": [
      "Epoch (7/30) train accuracy: 62.26197345643393, val accuracy: 54.07692307692308, train loss: 1.2860048311512644, val loss: 5.021542674019223\n"
     ]
    },
    {
     "name": "stderr",
     "output_type": "stream",
     "text": [
      "100%|██████████| 82/82 [02:47<00:00,  2.04s/it]\n",
      "100%|██████████| 21/21 [00:21<00:00,  1.05s/it]\n"
     ]
    },
    {
     "name": "stdout",
     "output_type": "stream",
     "text": [
      "Epoch (8/30) train accuracy: 65.07020580880939, val accuracy: 55.30769230769231, train loss: 1.1667381743105447, val loss: 4.555834775879269\n"
     ]
    },
    {
     "name": "stderr",
     "output_type": "stream",
     "text": [
      "100%|██████████| 82/82 [03:38<00:00,  2.67s/it]\n",
      "100%|██████████| 21/21 [00:25<00:00,  1.21s/it]\n"
     ]
    },
    {
     "name": "stdout",
     "output_type": "stream",
     "text": [
      "Epoch (9/30) train accuracy: 68.41700326985959, val accuracy: 59.07692307692308, train loss: 1.065932217894531, val loss: 4.16221151749293\n"
     ]
    },
    {
     "name": "stderr",
     "output_type": "stream",
     "text": [
      "100%|██████████| 82/82 [03:06<00:00,  2.28s/it]\n",
      "100%|██████████| 21/21 [00:19<00:00,  1.05it/s]\n"
     ]
    },
    {
     "name": "stdout",
     "output_type": "stream",
     "text": [
      "Epoch (10/30) train accuracy: 70.84054625889594, val accuracy: 59.23076923076923, train loss: 0.962373253775806, val loss: 3.757838419505528\n"
     ]
    },
    {
     "name": "stderr",
     "output_type": "stream",
     "text": [
      "100%|██████████| 82/82 [02:59<00:00,  2.19s/it]\n",
      "100%|██████████| 21/21 [00:21<00:00,  1.01s/it]\n"
     ]
    },
    {
     "name": "stdout",
     "output_type": "stream",
     "text": [
      "Epoch (11/30) train accuracy: 72.99480669359492, val accuracy: 59.0, train loss: 0.8948803718497114, val loss: 3.4942947853179205\n"
     ]
    },
    {
     "name": "stderr",
     "output_type": "stream",
     "text": [
      "100%|██████████| 82/82 [03:06<00:00,  2.27s/it]\n",
      "100%|██████████| 21/21 [00:21<00:00,  1.01s/it]\n"
     ]
    },
    {
     "name": "stdout",
     "output_type": "stream",
     "text": [
      "Epoch (12/30) train accuracy: 73.99499903827659, val accuracy: 60.61538461538461, train loss: 0.8274010245392962, val loss: 3.230804000582014\n"
     ]
    },
    {
     "name": "stderr",
     "output_type": "stream",
     "text": [
      "100%|██████████| 82/82 [03:11<00:00,  2.34s/it]\n",
      "100%|██████████| 21/21 [00:22<00:00,  1.06s/it]\n"
     ]
    },
    {
     "name": "stdout",
     "output_type": "stream",
     "text": [
      "Epoch (13/30) train accuracy: 76.80323139065204, val accuracy: 59.23076923076923, train loss: 0.7614013948818532, val loss: 2.9730911609672366\n"
     ]
    },
    {
     "name": "stderr",
     "output_type": "stream",
     "text": [
      "100%|██████████| 82/82 [03:06<00:00,  2.27s/it]\n",
      "100%|██████████| 21/21 [00:19<00:00,  1.10it/s]\n"
     ]
    },
    {
     "name": "stdout",
     "output_type": "stream",
     "text": [
      "Epoch (14/30) train accuracy: 77.03404500865551, val accuracy: 61.61538461538461, train loss: 0.7162567929523748, val loss: 2.7968122391473678\n"
     ]
    },
    {
     "name": "stderr",
     "output_type": "stream",
     "text": [
      "100%|██████████| 82/82 [04:11<00:00,  3.06s/it]\n",
      "100%|██████████| 21/21 [00:22<00:00,  1.06s/it]\n"
     ]
    },
    {
     "name": "stdout",
     "output_type": "stream",
     "text": [
      "Epoch (15/30) train accuracy: 79.6114637430275, val accuracy: 63.07692307692308, train loss: 0.6655893343977812, val loss: 2.5989678771722886\n"
     ]
    },
    {
     "name": "stderr",
     "output_type": "stream",
     "text": [
      "100%|██████████| 82/82 [03:05<00:00,  2.27s/it]\n",
      "100%|██████████| 21/21 [00:19<00:00,  1.06it/s]\n"
     ]
    },
    {
     "name": "stdout",
     "output_type": "stream",
     "text": [
      "Epoch (16/30) train accuracy: 80.74629736487786, val accuracy: 63.23076923076923, train loss: 0.6102087392312724, val loss: 2.3827198389030637\n"
     ]
    },
    {
     "name": "stderr",
     "output_type": "stream",
     "text": [
      "100%|██████████| 82/82 [03:05<00:00,  2.26s/it]\n",
      "100%|██████████| 21/21 [00:19<00:00,  1.07it/s]\n"
     ]
    },
    {
     "name": "stdout",
     "output_type": "stream",
     "text": [
      "Epoch (17/30) train accuracy: 81.66955183689171, val accuracy: 60.69230769230769, train loss: 0.5701974023406099, val loss: 2.22648509485381\n"
     ]
    },
    {
     "name": "stderr",
     "output_type": "stream",
     "text": [
      "100%|██████████| 82/82 [02:37<00:00,  1.92s/it]\n",
      "100%|██████████| 21/21 [00:17<00:00,  1.17it/s]\n"
     ]
    },
    {
     "name": "stdout",
     "output_type": "stream",
     "text": [
      "Epoch (18/30) train accuracy: 82.97749567224466, val accuracy: 62.23076923076923, train loss: 0.5528171200577806, val loss: 2.15861923070181\n"
     ]
    },
    {
     "name": "stderr",
     "output_type": "stream",
     "text": [
      "100%|██████████| 82/82 [02:35<00:00,  1.90s/it]\n",
      "100%|██████████| 21/21 [00:17<00:00,  1.19it/s]\n"
     ]
    },
    {
     "name": "stdout",
     "output_type": "stream",
     "text": [
      "Epoch (19/30) train accuracy: 83.53529524908636, val accuracy: 63.23076923076923, train loss: 0.5043233842021082, val loss: 1.9692627383129937\n"
     ]
    },
    {
     "name": "stderr",
     "output_type": "stream",
     "text": [
      "100%|██████████| 82/82 [02:58<00:00,  2.18s/it]\n",
      "100%|██████████| 21/21 [00:20<00:00,  1.03it/s]\n"
     ]
    },
    {
     "name": "stdout",
     "output_type": "stream",
     "text": [
      "Epoch (20/30) train accuracy: 84.03539142142719, val accuracy: 63.0, train loss: 0.5044201152717195, val loss: 1.9696404501086189\n"
     ]
    },
    {
     "name": "stderr",
     "output_type": "stream",
     "text": [
      "100%|██████████| 82/82 [03:03<00:00,  2.23s/it]\n",
      "100%|██████████| 21/21 [00:20<00:00,  1.03it/s]\n"
     ]
    },
    {
     "name": "stdout",
     "output_type": "stream",
     "text": [
      "Epoch (21/30) train accuracy: 85.28563185227928, val accuracy: 61.92307692307692, train loss: 0.46844512133336647, val loss: 1.8291666642540978\n"
     ]
    },
    {
     "name": "stderr",
     "output_type": "stream",
     "text": [
      "100%|██████████| 82/82 [03:02<00:00,  2.22s/it]\n",
      "100%|██████████| 21/21 [00:20<00:00,  1.03it/s]\n"
     ]
    },
    {
     "name": "stdout",
     "output_type": "stream",
     "text": [
      "Epoch (22/30) train accuracy: 86.70898249663396, val accuracy: 61.92307692307692, train loss: 0.40935959067286515, val loss: 1.5984517350083305\n"
     ]
    },
    {
     "name": "stderr",
     "output_type": "stream",
     "text": [
      "100%|██████████| 82/82 [03:05<00:00,  2.26s/it]\n",
      "100%|██████████| 21/21 [00:22<00:00,  1.09s/it]\n"
     ]
    },
    {
     "name": "stdout",
     "output_type": "stream",
     "text": [
      "Epoch (23/30) train accuracy: 87.1706097326409, val accuracy: 63.69230769230769, train loss: 0.39958728868059995, val loss: 1.5602932224671047\n"
     ]
    },
    {
     "name": "stderr",
     "output_type": "stream",
     "text": [
      "100%|██████████| 82/82 [03:15<00:00,  2.38s/it]\n",
      "100%|██████████| 21/21 [00:21<00:00,  1.04s/it]\n"
     ]
    },
    {
     "name": "stdout",
     "output_type": "stream",
     "text": [
      "Epoch (24/30) train accuracy: 87.49759569147913, val accuracy: 62.84615384615385, train loss: 0.3883799670672998, val loss: 1.5165312999770755\n"
     ]
    },
    {
     "name": "stderr",
     "output_type": "stream",
     "text": [
      "100%|██████████| 82/82 [03:08<00:00,  2.30s/it]\n",
      "100%|██████████| 21/21 [00:20<00:00,  1.01it/s]\n"
     ]
    },
    {
     "name": "stdout",
     "output_type": "stream",
     "text": [
      "Epoch (25/30) train accuracy: 88.78630505866512, val accuracy: 61.30769230769231, train loss: 0.37010568852831677, val loss: 1.4451745933010465\n"
     ]
    },
    {
     "name": "stderr",
     "output_type": "stream",
     "text": [
      "100%|██████████| 82/82 [03:08<00:00,  2.30s/it]\n",
      "100%|██████████| 21/21 [00:21<00:00,  1.01s/it]\n"
     ]
    },
    {
     "name": "stdout",
     "output_type": "stream",
     "text": [
      "Epoch (26/30) train accuracy: 87.68994037314869, val accuracy: 62.69230769230769, train loss: 0.3806824268000882, val loss: 1.4864742379812967\n"
     ]
    },
    {
     "name": "stderr",
     "output_type": "stream",
     "text": [
      "100%|██████████| 82/82 [03:07<00:00,  2.28s/it]\n",
      "100%|██████████| 21/21 [00:19<00:00,  1.08it/s]\n"
     ]
    },
    {
     "name": "stdout",
     "output_type": "stream",
     "text": [
      "Epoch (27/30) train accuracy: 88.63242931332948, val accuracy: 62.69230769230769, train loss: 0.3577200701323951, val loss: 1.3968117024217332\n"
     ]
    },
    {
     "name": "stderr",
     "output_type": "stream",
     "text": [
      "100%|██████████| 82/82 [02:44<00:00,  2.00s/it]\n",
      "100%|██████████| 21/21 [00:19<00:00,  1.09it/s]\n"
     ]
    },
    {
     "name": "stdout",
     "output_type": "stream",
     "text": [
      "Epoch (28/30) train accuracy: 89.69032506251202, val accuracy: 62.23076923076923, train loss: 0.3203493843718273, val loss: 1.2508880723090399\n"
     ]
    },
    {
     "name": "stderr",
     "output_type": "stream",
     "text": [
      "100%|██████████| 82/82 [02:38<00:00,  1.94s/it]\n",
      "100%|██████████| 21/21 [00:17<00:00,  1.21it/s]\n"
     ]
    },
    {
     "name": "stdout",
     "output_type": "stream",
     "text": [
      "Epoch (29/30) train accuracy: 90.67128293902674, val accuracy: 63.76923076923077, train loss: 0.28667025022753856, val loss: 1.1193790723170554\n"
     ]
    },
    {
     "name": "stderr",
     "output_type": "stream",
     "text": [
      "100%|██████████| 82/82 [02:35<00:00,  1.89s/it]\n",
      "100%|██████████| 21/21 [00:17<00:00,  1.19it/s]\n"
     ]
    },
    {
     "name": "stdout",
     "output_type": "stream",
     "text": [
      "Epoch (30/30) train accuracy: 91.17137911136757, val accuracy: 63.30769230769231, train loss: 0.27870883797181817, val loss: 1.0882916530328137\n"
     ]
    },
    {
     "data": {
      "text/plain": [
       "<Figure size 1000x600 with 1 Axes>"
      ],
      "image/png": "[encoded data removed]"
     },
     "metadata": {},
     "output_type": "display_data"
    }
   ],
   "execution_count": 17
  },
  {
   "metadata": {
    "ExecuteTime": {
     "end_time": "2025-04-08T04:05:58.853736Z",
     "start_time": "2025-04-08T04:05:58.839187Z"
    }
   },
   "cell_type": "code",
   "source": [
    "class CNN_v3(nn.Module):\n",
    "    def __init__(self, num_classes=75):\n",
    "        super(CNN_v3, self).__init__()\n",
    "        #kernal_size=5 instead of kernal_size=3 \n",
    "        self.conv_layer1 = nn.Conv2d(in_channels=3, out_channels=32, kernel_size=5, stride=1, padding=1)\n",
    "        self.conv_layer2 = nn.Conv2d(in_channels=32, out_channels=64, kernel_size=5, stride=1, padding=1)\n",
    "        self.conv_layer3 = nn.Conv2d(in_channels=64, out_channels=64, kernel_size=5, stride=1, padding=1)\n",
    "        \n",
    "        self.max_pool = nn.MaxPool2d(kernel_size=2, stride=2)\n",
    "        \n",
    "        self.flatten_size = self._get_flatten_size()\n",
    "        \n",
    "        self.fc1 = nn.Linear(in_features=self.flatten_size, out_features=128)\n",
    "        self.fc2 = nn.Linear(in_features=128, out_features=num_classes)\n",
    "        \n",
    "    def _get_flatten_size(self):\n",
    "        x = torch.randn(1, 3, 150, 150)\n",
    "        x = self.max_pool(F.relu(self.conv_layer1(x)))\n",
    "        x = self.max_pool(F.relu(self.conv_layer2(x)))\n",
    "        x = self.max_pool(F.relu(self.conv_layer3(x)))\n",
    "        return x.view(1, -1).size(1)\n",
    "        \n",
    "    def forward(self, x):\n",
    "        x = F.relu(self.conv_layer1(x))\n",
    "        x = self.max_pool(x)\n",
    "        x = F.relu(self.conv_layer2(x))\n",
    "        x = self.max_pool(x)\n",
    "        x = F.relu(self.conv_layer3(x))\n",
    "        x = self.max_pool(x)\n",
    "        x = x.view(x.size(0), -1)\n",
    "        x = F.relu(self.fc1(x)) \n",
    "        x = self.fc2(x) \n",
    "        \n",
    "        return x"
   ],
   "id": "5d4250371946bd68",
   "outputs": [],
   "execution_count": 21
  },
  {
   "metadata": {
    "ExecuteTime": {
     "end_time": "2025-04-08T04:06:00.302850Z",
     "start_time": "2025-04-08T04:06:00.225129Z"
    }
   },
   "cell_type": "code",
   "source": [
    "model_v3 = CNN_v3(75).to(device)\n",
    "optimizer_v3 = optim.Adam(model_v3.parameters(), lr=0.001)"
   ],
   "id": "c0c180b10bbd15b6",
   "outputs": [],
   "execution_count": 22
  },
  {
   "metadata": {
    "ExecuteTime": {
     "end_time": "2025-04-08T05:06:13.918506Z",
     "start_time": "2025-04-08T04:06:21.243174Z"
    }
   },
   "cell_type": "code",
   "source": [
    "train_loss, val_loss, train_acc, val_acc = train(model_v3, optimizer=optimizer_v3, num_epochs=20)\n",
    "plot_training_curve(train_acc, val_acc, train_loss, val_loss)"
   ],
   "id": "205844217bd75c6f",
   "outputs": [
    {
     "name": "stderr",
     "output_type": "stream",
     "text": [
      "100%|██████████| 82/82 [02:40<00:00,  1.95s/it]\n",
      "100%|██████████| 21/21 [00:18<00:00,  1.14it/s]\n"
     ]
    },
    {
     "name": "stdout",
     "output_type": "stream",
     "text": [
      "Epoch (1/20) train accuracy: 6.212733217926524, val accuracy: 13.076923076923077, train loss: 3.933133669015838, val loss: 15.357950517109462\n"
     ]
    },
    {
     "name": "stderr",
     "output_type": "stream",
     "text": [
      "100%|██████████| 82/82 [02:37<00:00,  1.93s/it]\n",
      "100%|██████████| 21/21 [00:17<00:00,  1.20it/s]\n"
     ]
    },
    {
     "name": "stdout",
     "output_type": "stream",
     "text": [
      "Epoch (2/20) train accuracy: 19.40757838045778, val accuracy: 25.923076923076923, train loss: 3.088020432286146, val loss: 12.057984545117332\n"
     ]
    },
    {
     "name": "stderr",
     "output_type": "stream",
     "text": [
      "100%|██████████| 82/82 [02:34<00:00,  1.89s/it]\n",
      "100%|██████████| 21/21 [00:17<00:00,  1.19it/s]\n"
     ]
    },
    {
     "name": "stdout",
     "output_type": "stream",
     "text": [
      "Epoch (3/20) train accuracy: 32.333140988651664, val accuracy: 36.23076923076923, train loss: 2.5339964977124843, val loss: 9.894652991067796\n"
     ]
    },
    {
     "name": "stderr",
     "output_type": "stream",
     "text": [
      "100%|██████████| 82/82 [02:37<00:00,  1.92s/it]\n",
      "100%|██████████| 21/21 [00:17<00:00,  1.22it/s]\n"
     ]
    },
    {
     "name": "stdout",
     "output_type": "stream",
     "text": [
      "Epoch (4/20) train accuracy: 40.85401038661281, val accuracy: 41.61538461538461, train loss: 2.1497956732424295, val loss: 8.39444024789901\n"
     ]
    },
    {
     "name": "stderr",
     "output_type": "stream",
     "text": [
      "100%|██████████| 82/82 [02:39<00:00,  1.94s/it]\n",
      "100%|██████████| 21/21 [00:18<00:00,  1.13it/s]\n"
     ]
    },
    {
     "name": "stdout",
     "output_type": "stream",
     "text": [
      "Epoch (5/20) train accuracy: 47.2975572225428, val accuracy: 47.69230769230769, train loss: 1.8603920282387152, val loss: 7.264387919789269\n"
     ]
    },
    {
     "name": "stderr",
     "output_type": "stream",
     "text": [
      "100%|██████████| 82/82 [02:44<00:00,  2.01s/it]\n",
      "100%|██████████| 21/21 [00:18<00:00,  1.15it/s]\n"
     ]
    },
    {
     "name": "stdout",
     "output_type": "stream",
     "text": [
      "Epoch (6/20) train accuracy: 50.182727447586075, val accuracy: 49.23076923076923, train loss: 1.7284248413109198, val loss: 6.7490874755950205\n"
     ]
    },
    {
     "name": "stderr",
     "output_type": "stream",
     "text": [
      "100%|██████████| 82/82 [02:45<00:00,  2.02s/it]\n",
      "100%|██████████| 21/21 [00:18<00:00,  1.16it/s]\n"
     ]
    },
    {
     "name": "stdout",
     "output_type": "stream",
     "text": [
      "Epoch (7/20) train accuracy: 55.433737257164836, val accuracy: 52.61538461538461, train loss: 1.5397891213254231, val loss: 6.012509902318318\n"
     ]
    },
    {
     "name": "stderr",
     "output_type": "stream",
     "text": [
      "100%|██████████| 82/82 [02:43<00:00,  2.00s/it]\n",
      "100%|██████████| 21/21 [00:18<00:00,  1.15it/s]\n"
     ]
    },
    {
     "name": "stdout",
     "output_type": "stream",
     "text": [
      "Epoch (8/20) train accuracy: 58.0688593960377, val accuracy: 54.30769230769231, train loss: 1.4387163926915425, val loss: 5.617844961938404\n"
     ]
    },
    {
     "name": "stderr",
     "output_type": "stream",
     "text": [
      "100%|██████████| 82/82 [02:41<00:00,  1.97s/it]\n",
      "100%|██████████| 21/21 [00:17<00:00,  1.18it/s]\n"
     ]
    },
    {
     "name": "stdout",
     "output_type": "stream",
     "text": [
      "Epoch (9/20) train accuracy: 61.22331217541835, val accuracy: 56.0, train loss: 1.3297381350179998, val loss: 5.192310812927428\n"
     ]
    },
    {
     "name": "stderr",
     "output_type": "stream",
     "text": [
      "100%|██████████| 82/82 [02:43<00:00,  1.99s/it]\n",
      "100%|██████████| 21/21 [00:18<00:00,  1.15it/s]\n"
     ]
    },
    {
     "name": "stdout",
     "output_type": "stream",
     "text": [
      "Epoch (10/20) train accuracy: 62.24273898826697, val accuracy: 58.0, train loss: 1.2714676006538113, val loss: 4.964778250172024\n"
     ]
    },
    {
     "name": "stderr",
     "output_type": "stream",
     "text": [
      "100%|██████████| 82/82 [02:43<00:00,  1.99s/it]\n",
      "100%|██████████| 21/21 [00:18<00:00,  1.14it/s]\n"
     ]
    },
    {
     "name": "stdout",
     "output_type": "stream",
     "text": [
      "Epoch (11/20) train accuracy: 63.435276014618196, val accuracy: 58.46153846153846, train loss: 1.2256673908815152, val loss: 4.785939335823059\n"
     ]
    },
    {
     "name": "stderr",
     "output_type": "stream",
     "text": [
      "100%|██████████| 82/82 [02:42<00:00,  1.98s/it]\n",
      "100%|██████████| 21/21 [00:18<00:00,  1.15it/s]\n"
     ]
    },
    {
     "name": "stdout",
     "output_type": "stream",
     "text": [
      "Epoch (12/20) train accuracy: 66.49355645316408, val accuracy: 58.38461538461539, train loss: 1.1335392020097592, val loss: 4.426200693561917\n"
     ]
    },
    {
     "name": "stderr",
     "output_type": "stream",
     "text": [
      "100%|██████████| 82/82 [02:41<00:00,  1.97s/it]\n",
      "100%|██████████| 21/21 [00:17<00:00,  1.18it/s]\n"
     ]
    },
    {
     "name": "stdout",
     "output_type": "stream",
     "text": [
      "Epoch (13/20) train accuracy: 68.0707828428544, val accuracy: 58.15384615384615, train loss: 1.042156200946831, val loss: 4.069371832268579\n"
     ]
    },
    {
     "name": "stderr",
     "output_type": "stream",
     "text": [
      "100%|██████████| 82/82 [02:41<00:00,  1.97s/it]\n",
      "100%|██████████| 21/21 [00:17<00:00,  1.19it/s]\n"
     ]
    },
    {
     "name": "stdout",
     "output_type": "stream",
     "text": [
      "Epoch (14/20) train accuracy: 70.76360838622811, val accuracy: 58.23076923076923, train loss: 0.9840837884240035, val loss: 3.8426128881318227\n"
     ]
    },
    {
     "name": "stderr",
     "output_type": "stream",
     "text": [
      "100%|██████████| 82/82 [02:41<00:00,  1.96s/it]\n",
      "100%|██████████| 21/21 [00:17<00:00,  1.18it/s]\n"
     ]
    },
    {
     "name": "stdout",
     "output_type": "stream",
     "text": [
      "Epoch (15/20) train accuracy: 70.32121561838815, val accuracy: 58.38461538461539, train loss: 0.9860808645806661, val loss: 3.850410995029268\n"
     ]
    },
    {
     "name": "stderr",
     "output_type": "stream",
     "text": [
      "100%|██████████| 82/82 [02:43<00:00,  2.00s/it]\n",
      "100%|██████████| 21/21 [00:17<00:00,  1.18it/s]\n"
     ]
    },
    {
     "name": "stdout",
     "output_type": "stream",
     "text": [
      "Epoch (16/20) train accuracy: 72.3216003077515, val accuracy: 62.23076923076923, train loss: 0.9042764585919496, val loss: 3.530984266882851\n"
     ]
    },
    {
     "name": "stderr",
     "output_type": "stream",
     "text": [
      "100%|██████████| 82/82 [02:41<00:00,  1.97s/it]\n",
      "100%|██████████| 21/21 [00:18<00:00,  1.16it/s]\n"
     ]
    },
    {
     "name": "stdout",
     "output_type": "stream",
     "text": [
      "Epoch (17/20) train accuracy: 72.64858626658973, val accuracy: 60.23076923076923, train loss: 0.8871129525870811, val loss: 3.4639648624828885\n"
     ]
    },
    {
     "name": "stderr",
     "output_type": "stream",
     "text": [
      "100%|██████████| 82/82 [02:43<00:00,  1.99s/it]\n",
      "100%|██████████| 21/21 [00:18<00:00,  1.16it/s]\n"
     ]
    },
    {
     "name": "stdout",
     "output_type": "stream",
     "text": [
      "Epoch (18/20) train accuracy: 74.68743989228697, val accuracy: 62.61538461538461, train loss: 0.8220869807935343, val loss: 3.2100539250033244\n"
     ]
    },
    {
     "name": "stderr",
     "output_type": "stream",
     "text": [
      "100%|██████████| 82/82 [02:41<00:00,  1.97s/it]\n",
      "100%|██████████| 21/21 [00:18<00:00,  1.16it/s]\n"
     ]
    },
    {
     "name": "stdout",
     "output_type": "stream",
     "text": [
      "Epoch (19/20) train accuracy: 75.97614925947298, val accuracy: 63.0, train loss: 0.7590548755919061, val loss: 2.963928561835062\n"
     ]
    },
    {
     "name": "stderr",
     "output_type": "stream",
     "text": [
      "100%|██████████| 82/82 [02:42<00:00,  1.98s/it]\n",
      "100%|██████████| 21/21 [00:18<00:00,  1.12it/s]\n"
     ]
    },
    {
     "name": "stdout",
     "output_type": "stream",
     "text": [
      "Epoch (20/20) train accuracy: 76.14925947297557, val accuracy: 59.46153846153846, train loss: 0.7668112967072463, val loss: 2.9942155395235335\n"
     ]
    },
    {
     "data": {
      "text/plain": [
       "<Figure size 1000x600 with 1 Axes>"
      ],
      "image/png": "[encoded data removed]"
     },
     "metadata": {},
     "output_type": "display_data"
    }
   ],
   "execution_count": 23
  },
  {
   "metadata": {
    "ExecuteTime": {
     "end_time": "2025-04-08T05:06:13.950743Z",
     "start_time": "2025-04-08T05:06:13.933360Z"
    }
   },
   "cell_type": "code",
   "source": [
    "class CNN_v4(nn.Module):\n",
    "    def __init__(self, num_classes=75):\n",
    "        super(CNN_v4, self).__init__()\n",
    "        self.conv_layer1 = nn.Conv2d(in_channels=3, out_channels=32, kernel_size=3, stride=1, padding=1)\n",
    "        self.conv_layer2 = nn.Conv2d(in_channels=32, out_channels=64, kernel_size=3, stride=1, padding=1)\n",
    "        self.conv_layer3 = nn.Conv2d(in_channels=64, out_channels=64, kernel_size=3, stride=1, padding=1)\n",
    "        \n",
    "        #batch normalization\n",
    "        self.bn1 = nn.BatchNorm2d(32)\n",
    "        self.bn2 = nn.BatchNorm2d(64)\n",
    "        self.bn3 = nn.BatchNorm2d(64)\n",
    "\n",
    "        \n",
    "        self.max_pool = nn.MaxPool2d(kernel_size=2, stride=2)\n",
    "        \n",
    "        self.flatten_size = self._get_flatten_size()\n",
    "        #add dropout\n",
    "        self.dropout = nn.Dropout(0.5)\n",
    "        \n",
    "        self.fc1 = nn.Linear(in_features=self.flatten_size, out_features=128)\n",
    "        self.fc2 = nn.Linear(in_features=128, out_features=num_classes)\n",
    "        \n",
    "    def _get_flatten_size(self):\n",
    "        x = torch.randn(1, 3, 150, 150)\n",
    "        x = self.max_pool(F.relu(self.conv_layer1(x)))\n",
    "        x = self.max_pool(F.relu(self.conv_layer2(x)))\n",
    "        x = self.max_pool(F.relu(self.conv_layer3(x)))\n",
    "        return x.view(1, -1).size(1)\n",
    "        \n",
    "    def forward(self, x):\n",
    "        x = F.relu(self.bn1(self.conv_layer1(x)))\n",
    "        x = self.max_pool(x)\n",
    "        x = F.relu(self.bn2(self.conv_layer2(x)))\n",
    "        x = self.max_pool(x)\n",
    "        x = F.relu(self.bn3(self.conv_layer3(x)))\n",
    "        x = self.max_pool(x)\n",
    "        x = x.view(x.size(0), -1)\n",
    "        x = self.dropout(F.relu(self.fc1(x))) \n",
    "        x = self.fc2(x) \n",
    "        \n",
    "        return x"
   ],
   "id": "c77c13be79b12b45",
   "outputs": [],
   "execution_count": 24
  },
  {
   "metadata": {
    "ExecuteTime": {
     "end_time": "2025-04-08T05:06:14.064427Z",
     "start_time": "2025-04-08T05:06:14.001961Z"
    }
   },
   "cell_type": "code",
   "source": [
    "model_v4 = CNN_v4(75).to(device)\n",
    "optimizer_v4 = optim.Adam(model_v4.parameters(), lr=0.001)"
   ],
   "id": "7cf7908712b6a7fd",
   "outputs": [],
   "execution_count": 25
  },
  {
   "metadata": {
    "ExecuteTime": {
     "end_time": "2025-04-08T06:13:54.475357Z",
     "start_time": "2025-04-08T05:06:14.142301Z"
    }
   },
   "cell_type": "code",
   "source": [
    "train_loss, val_loss, train_acc, val_acc = train(model_v4,optimizer=optimizer_v4,  num_epochs=20)\n",
    "plot_training_curve(train_acc, val_acc, train_loss, val_loss)"
   ],
   "id": "96ba731219711b09",
   "outputs": [
    {
     "name": "stderr",
     "output_type": "stream",
     "text": [
      "100%|██████████| 82/82 [02:37<00:00,  1.92s/it]\n",
      "100%|██████████| 21/21 [00:17<00:00,  1.17it/s]\n"
     ]
    },
    {
     "name": "stdout",
     "output_type": "stream",
     "text": [
      "Epoch (1/20) train accuracy: 1.673398730525101, val accuracy: 2.076923076923077, train loss: 4.464955923033924, val loss: 17.434589794703893\n"
     ]
    },
    {
     "name": "stderr",
     "output_type": "stream",
     "text": [
      "100%|██████████| 82/82 [02:24<00:00,  1.77s/it]\n",
      "100%|██████████| 21/21 [00:16<00:00,  1.25it/s]\n"
     ]
    },
    {
     "name": "stdout",
     "output_type": "stream",
     "text": [
      "Epoch (2/20) train accuracy: 2.3466051163685324, val accuracy: 2.3076923076923075, train loss: 4.1634997885401654, val loss: 16.257475364775885\n"
     ]
    },
    {
     "name": "stderr",
     "output_type": "stream",
     "text": [
      "100%|██████████| 82/82 [02:23<00:00,  1.75s/it]\n",
      "100%|██████████| 21/21 [00:16<00:00,  1.28it/s]\n"
     ]
    },
    {
     "name": "stdout",
     "output_type": "stream",
     "text": [
      "Epoch (3/20) train accuracy: 2.481246393537219, val accuracy: 2.3076923076923075, train loss: 4.096146801622902, val loss: 15.994477987289429\n"
     ]
    },
    {
     "name": "stderr",
     "output_type": "stream",
     "text": [
      "100%|██████████| 82/82 [02:23<00:00,  1.75s/it]\n",
      "100%|██████████| 21/21 [00:17<00:00,  1.22it/s]\n"
     ]
    },
    {
     "name": "stdout",
     "output_type": "stream",
     "text": [
      "Epoch (4/20) train accuracy: 2.2504327755337563, val accuracy: 3.076923076923077, train loss: 4.0696365193622865, val loss: 15.890961647033691\n"
     ]
    },
    {
     "name": "stderr",
     "output_type": "stream",
     "text": [
      "100%|██████████| 82/82 [02:21<00:00,  1.72s/it]\n",
      "100%|██████████| 21/21 [00:16<00:00,  1.28it/s]\n"
     ]
    },
    {
     "name": "stdout",
     "output_type": "stream",
     "text": [
      "Epoch (5/20) train accuracy: 5.654933641084824, val accuracy: 7.153846153846154, train loss: 3.752145889328747, val loss: 14.65123632975987\n"
     ]
    },
    {
     "name": "stderr",
     "output_type": "stream",
     "text": [
      "100%|██████████| 82/82 [02:21<00:00,  1.72s/it]\n",
      "100%|██████████| 21/21 [00:17<00:00,  1.22it/s]\n"
     ]
    },
    {
     "name": "stdout",
     "output_type": "stream",
     "text": [
      "Epoch (6/20) train accuracy: 11.482977495672245, val accuracy: 11.76923076923077, train loss: 3.282861029229513, val loss: 12.81879068556286\n"
     ]
    },
    {
     "name": "stderr",
     "output_type": "stream",
     "text": [
      "100%|██████████| 82/82 [02:19<00:00,  1.70s/it]\n",
      "100%|██████████| 21/21 [00:16<00:00,  1.29it/s]\n"
     ]
    },
    {
     "name": "stdout",
     "output_type": "stream",
     "text": [
      "Epoch (7/20) train accuracy: 15.329871129063282, val accuracy: 19.153846153846153, train loss: 3.0807185289336414, val loss: 12.029472351074219\n"
     ]
    },
    {
     "name": "stderr",
     "output_type": "stream",
     "text": [
      "100%|██████████| 82/82 [02:21<00:00,  1.73s/it]\n",
      "100%|██████████| 21/21 [00:16<00:00,  1.25it/s]\n"
     ]
    },
    {
     "name": "stdout",
     "output_type": "stream",
     "text": [
      "Epoch (8/20) train accuracy: 20.830929024812463, val accuracy: 22.923076923076923, train loss: 2.780051833245812, val loss: 10.855440491721744\n"
     ]
    },
    {
     "name": "stderr",
     "output_type": "stream",
     "text": [
      "100%|██████████| 82/82 [02:21<00:00,  1.72s/it]\n",
      "100%|██████████| 21/21 [00:16<00:00,  1.24it/s]\n"
     ]
    },
    {
     "name": "stdout",
     "output_type": "stream",
     "text": [
      "Epoch (9/20) train accuracy: 25.658780534718215, val accuracy: 26.53846153846154, train loss: 2.5546760588157467, val loss: 9.975401753471012\n"
     ]
    },
    {
     "name": "stderr",
     "output_type": "stream",
     "text": [
      "100%|██████████| 82/82 [02:24<00:00,  1.77s/it]\n",
      "100%|██████████| 21/21 [00:16<00:00,  1.25it/s]\n"
     ]
    },
    {
     "name": "stdout",
     "output_type": "stream",
     "text": [
      "Epoch (10/20) train accuracy: 29.8711290632814, val accuracy: 33.76923076923077, train loss: 2.412345109916315, val loss: 9.419633286339897\n"
     ]
    },
    {
     "name": "stderr",
     "output_type": "stream",
     "text": [
      "100%|██████████| 82/82 [02:34<00:00,  1.88s/it]\n",
      "100%|██████████| 21/21 [00:22<00:00,  1.07s/it]\n"
     ]
    },
    {
     "name": "stdout",
     "output_type": "stream",
     "text": [
      "Epoch (11/20) train accuracy: 32.121561838815154, val accuracy: 32.69230769230769, train loss: 2.2886911528866465, val loss: 8.936794025557381\n"
     ]
    },
    {
     "name": "stderr",
     "output_type": "stream",
     "text": [
      "100%|██████████| 82/82 [03:19<00:00,  2.43s/it]\n",
      "100%|██████████| 21/21 [00:20<00:00,  1.02it/s]\n"
     ]
    },
    {
     "name": "stdout",
     "output_type": "stream",
     "text": [
      "Epoch (12/20) train accuracy: 36.0069244085401, val accuracy: 32.76923076923077, train loss: 2.2004562470971085, val loss: 8.592257726760138\n"
     ]
    },
    {
     "name": "stderr",
     "output_type": "stream",
     "text": [
      "100%|██████████| 82/82 [02:40<00:00,  1.96s/it]\n",
      "100%|██████████| 21/21 [00:18<00:00,  1.13it/s]\n"
     ]
    },
    {
     "name": "stdout",
     "output_type": "stream",
     "text": [
      "Epoch (13/20) train accuracy: 37.58415079823043, val accuracy: 39.53846153846154, train loss: 2.1098011019753247, val loss: 8.238270969617934\n"
     ]
    },
    {
     "name": "stderr",
     "output_type": "stream",
     "text": [
      "100%|██████████| 82/82 [02:39<00:00,  1.94s/it]\n",
      "100%|██████████| 21/21 [00:20<00:00,  1.02it/s]\n"
     ]
    },
    {
     "name": "stdout",
     "output_type": "stream",
     "text": [
      "Epoch (14/20) train accuracy: 38.81515676091556, val accuracy: 37.76923076923077, train loss: 2.0759917802926973, val loss: 8.10625361828577\n"
     ]
    },
    {
     "name": "stderr",
     "output_type": "stream",
     "text": [
      "100%|██████████| 82/82 [03:27<00:00,  2.52s/it]\n",
      "100%|██████████| 21/21 [00:31<00:00,  1.50s/it]\n"
     ]
    },
    {
     "name": "stdout",
     "output_type": "stream",
     "text": [
      "Epoch (15/20) train accuracy: 40.29621080977111, val accuracy: 37.53846153846154, train loss: 2.022500631285877, val loss: 7.897383417401995\n"
     ]
    },
    {
     "name": "stderr",
     "output_type": "stream",
     "text": [
      "100%|██████████| 82/82 [04:14<00:00,  3.11s/it]\n",
      "100%|██████████| 21/21 [00:31<00:00,  1.50s/it]\n"
     ]
    },
    {
     "name": "stdout",
     "output_type": "stream",
     "text": [
      "Epoch (16/20) train accuracy: 41.48874783612233, val accuracy: 39.69230769230769, train loss: 1.9759321343608018, val loss: 7.7155445246469405\n"
     ]
    },
    {
     "name": "stderr",
     "output_type": "stream",
     "text": [
      "100%|██████████| 82/82 [04:18<00:00,  3.15s/it]\n",
      "100%|██████████| 21/21 [00:31<00:00,  1.50s/it]\n"
     ]
    },
    {
     "name": "stdout",
     "output_type": "stream",
     "text": [
      "Epoch (17/20) train accuracy: 43.56607039815349, val accuracy: 37.30769230769231, train loss: 1.8942248734032237, val loss: 7.396497124717349\n"
     ]
    },
    {
     "name": "stderr",
     "output_type": "stream",
     "text": [
      "100%|██████████| 82/82 [04:20<00:00,  3.18s/it]\n",
      "100%|██████████| 21/21 [00:31<00:00,  1.52s/it]\n"
     ]
    },
    {
     "name": "stdout",
     "output_type": "stream",
     "text": [
      "Epoch (18/20) train accuracy: 44.02769763416042, val accuracy: 42.0, train loss: 1.8935851004065536, val loss: 7.393998963492257\n"
     ]
    },
    {
     "name": "stderr",
     "output_type": "stream",
     "text": [
      "100%|██████████| 82/82 [04:25<00:00,  3.24s/it]\n",
      "100%|██████████| 21/21 [00:33<00:00,  1.60s/it]\n"
     ]
    },
    {
     "name": "stdout",
     "output_type": "stream",
     "text": [
      "Epoch (19/20) train accuracy: 45.508751683015966, val accuracy: 44.0, train loss: 1.8075248119307727, val loss: 7.057954027539208\n"
     ]
    },
    {
     "name": "stderr",
     "output_type": "stream",
     "text": [
      "100%|██████████| 82/82 [04:17<00:00,  3.14s/it]\n",
      "100%|██████████| 21/21 [00:32<00:00,  1.55s/it]\n"
     ]
    },
    {
     "name": "stdout",
     "output_type": "stream",
     "text": [
      "Epoch (20/20) train accuracy: 46.89363339103674, val accuracy: 41.53846153846154, train loss: 1.7624454905347127, val loss: 6.881930010659354\n"
     ]
    },
    {
     "data": {
      "text/plain": [
       "<Figure size 1000x600 with 1 Axes>"
      ],
      "image/png": "[encoded data removed]"
     },
     "metadata": {},
     "output_type": "display_data"
    }
   ],
   "execution_count": 26
  },
  {
   "metadata": {
    "ExecuteTime": {
     "end_time": "2025-04-07T23:48:58.470149600Z",
     "start_time": "2025-04-07T04:15:32.991561Z"
    }
   },
   "cell_type": "code",
   "source": "",
   "id": "1660248be4e8360",
   "outputs": [],
   "execution_count": null
  }
 ],
 "metadata": {
  "kernelspec": {
   "display_name": "Python 3",
   "language": "python",
   "name": "python3"
  },
  "language_info": {
   "codemirror_mode": {
    "name": "ipython",
    "version": 2
   },
   "file_extension": ".py",
   "mimetype": "text/x-python",
   "name": "python",
   "nbconvert_exporter": "python",
   "pygments_lexer": "ipython2",
   "version": "2.7.6"
  }
 },
 "nbformat": 4,
 "nbformat_minor": 5
}
