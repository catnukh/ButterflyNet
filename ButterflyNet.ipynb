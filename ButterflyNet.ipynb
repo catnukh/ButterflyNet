{
 "cells": [
  {
   "metadata": {
    "ExecuteTime": {
     "end_time": "2025-04-05T20:28:51.008683Z",
     "start_time": "2025-04-05T20:28:43.530508Z"
    }
   },
   "cell_type": "code",
   "source": [
    "import torch.nn as nn\n",
    "import torch.nn.functional as F\n",
    "import torch.optim as optim\n",
    "import matplotlib.pyplot as plt\n",
    "\n",
    "from collect_data import *\n",
    "from tqdm import tqdm"
   ],
   "id": "154c027d0a31c739",
   "outputs": [],
   "execution_count": 1
  },
  {
   "metadata": {
    "ExecuteTime": {
     "end_time": "2025-04-05T20:28:51.394771Z",
     "start_time": "2025-04-05T20:28:51.017342Z"
    }
   },
   "cell_type": "code",
   "source": [
    "for img, _ in train_loader:\n",
    "    print(img.shape) \n",
    "    break "
   ],
   "id": "a6fef523570e9e5f",
   "outputs": [
    {
     "name": "stdout",
     "output_type": "stream",
     "text": [
      "torch.Size([64, 3, 150, 150])\n"
     ]
    }
   ],
   "execution_count": 2
  },
  {
   "metadata": {
    "ExecuteTime": {
     "end_time": "2025-04-05T20:28:51.900308Z",
     "start_time": "2025-04-05T20:28:51.884850Z"
    }
   },
   "cell_type": "code",
   "source": [
    "class CNN(nn.Module):\n",
    "    def __init__(self, num_classes=75):\n",
    "        super(CNN, self).__init__()\n",
    "        self.conv_layer1 = nn.Conv2d(in_channels=3, out_channels=32, kernel_size=3, stride=1, padding=1)\n",
    "        self.conv_layer2 = nn.Conv2d(in_channels=32, out_channels=64, kernel_size=3, stride=1, padding=1)\n",
    "        self.conv_layer3 = nn.Conv2d(in_channels=64, out_channels=64, kernel_size=3, stride=1, padding=1)\n",
    "        \n",
    "        self.max_pool = nn.MaxPool2d(kernel_size=2, stride=2)\n",
    "        \n",
    "        self.flatten_size = self._get_flatten_size()\n",
    "        \n",
    "        self.fc1 = nn.Linear(in_features=self.flatten_size, out_features=128)\n",
    "        self.fc2 = nn.Linear(in_features=128, out_features=num_classes)\n",
    "        \n",
    "    def _get_flatten_size(self):\n",
    "        x = torch.randn(1, 3, 150, 150)\n",
    "        x = self.max_pool(F.relu(self.conv_layer1(x)))\n",
    "        x = self.max_pool(F.relu(self.conv_layer2(x)))\n",
    "        x = self.max_pool(F.relu(self.conv_layer3(x)))\n",
    "        return x.view(1, -1).size(1)\n",
    "        \n",
    "    def forward(self, x):\n",
    "        x = F.relu(self.conv_layer1(x))\n",
    "        x = self.max_pool(x)\n",
    "        x = F.relu(self.conv_layer2(x))\n",
    "        x = self.max_pool(x)\n",
    "        x = F.relu(self.conv_layer3(x))\n",
    "        x = self.max_pool(x)\n",
    "        x = x.view(x.size(0), -1)\n",
    "        x = F.relu(self.fc1(x)) \n",
    "        x = self.fc2(x) \n",
    "        \n",
    "        return x"
   ],
   "id": "2fa9786e3d071314",
   "outputs": [],
   "execution_count": 3
  },
  {
   "metadata": {
    "ExecuteTime": {
     "end_time": "2025-04-05T20:28:51.945425Z",
     "start_time": "2025-04-05T20:28:51.938557Z"
    }
   },
   "cell_type": "code",
   "source": "device = torch.device(\"cuda\" if torch.cuda.is_available() else \"cpu\")",
   "id": "1186a7bc6c791b76",
   "outputs": [],
   "execution_count": 4
  },
  {
   "metadata": {
    "ExecuteTime": {
     "end_time": "2025-04-05T20:28:52.074642Z",
     "start_time": "2025-04-05T20:28:51.981122Z"
    }
   },
   "cell_type": "code",
   "source": [
    "model = CNN(num_classes=75).to(device)\n",
    "print(model)"
   ],
   "id": "feb2a63f9278cc49",
   "outputs": [
    {
     "name": "stdout",
     "output_type": "stream",
     "text": [
      "CNN(\n",
      "  (conv_layer1): Conv2d(3, 32, kernel_size=(3, 3), stride=(1, 1), padding=(1, 1))\n",
      "  (conv_layer2): Conv2d(32, 64, kernel_size=(3, 3), stride=(1, 1), padding=(1, 1))\n",
      "  (conv_layer3): Conv2d(64, 64, kernel_size=(3, 3), stride=(1, 1), padding=(1, 1))\n",
      "  (max_pool): MaxPool2d(kernel_size=2, stride=2, padding=0, dilation=1, ceil_mode=False)\n",
      "  (fc1): Linear(in_features=20736, out_features=128, bias=True)\n",
      "  (fc2): Linear(in_features=128, out_features=75, bias=True)\n",
      ")\n"
     ]
    }
   ],
   "execution_count": 5
  },
  {
   "metadata": {
    "ExecuteTime": {
     "end_time": "2025-04-05T20:28:52.116892Z",
     "start_time": "2025-04-05T20:28:52.109991Z"
    }
   },
   "cell_type": "code",
   "source": [
    "loss_fn = nn.CrossEntropyLoss()\n",
    "optimizer = optim.Adam(model.parameters(), lr=0.001)"
   ],
   "id": "5b1b2c74171352b0",
   "outputs": [],
   "execution_count": 6
  },
  {
   "metadata": {
    "ExecuteTime": {
     "end_time": "2025-04-05T20:28:52.170036Z",
     "start_time": "2025-04-05T20:28:52.151693Z"
    }
   },
   "cell_type": "code",
   "source": [
    "def train(model, num_epochs, loss_fn=loss_fn, train_loader=train_loader, optimizer=optimizer, device=device):\n",
    "    train_loss = []\n",
    "    val_loss = []\n",
    "    train_acc = []\n",
    "    val_acc = []\n",
    "    \n",
    "    for epoch in range(num_epochs):\n",
    "        total_loss = 0\n",
    "        correct_train = 0\n",
    "        total_train = 0\n",
    "        \n",
    "        for batch in tqdm(train_loader):\n",
    "            images, labels = batch\n",
    "            images, labels = images.to(device), labels.to(device)\n",
    "            optimizer.zero_grad()\n",
    "            outputs = model(images)\n",
    "            loss = loss_fn(outputs, labels)\n",
    "            loss.backward()\n",
    "            optimizer.step()\n",
    "            total_loss += loss.item()\n",
    "            total_train += labels.size(0)\n",
    "            \n",
    "            _, predicted = torch.max(outputs.data, 1)\n",
    "            correct_train += (predicted == labels).sum().item()\n",
    "            \n",
    "        acc_train = 100 * correct_train / total_train\n",
    "        train_acc.append(acc_train)\n",
    "        avg_train_loss = total_loss / len(train_loader)\n",
    "        train_loss.append(avg_train_loss)\n",
    "        \n",
    "        model.eval()\n",
    "        loss_val = 0\n",
    "        correct_val = 0\n",
    "        total_val = 0\n",
    "        \n",
    "        with torch.no_grad():\n",
    "            for batch in tqdm(val_loader):\n",
    "                images, labels = batch\n",
    "                images, labels = images.to(device), labels.to(device)\n",
    "\n",
    "                outputs = model(images)\n",
    "                loss = loss_fn(outputs, labels)\n",
    "\n",
    "                loss_val += loss.item()\n",
    "                total_val += labels.size(0)\n",
    "                \n",
    "                _, predicted = torch.max(outputs.data, 1)\n",
    "                correct_val += (predicted == labels).sum().item()\n",
    "                \n",
    "        acc_val = 100 * correct_val / total_val\n",
    "        val_acc.append(acc_val)\n",
    "        avg_val_loss = total_loss / len(val_loader)\n",
    "        val_loss.append(avg_val_loss)\n",
    "        \n",
    "        print(f\"Epoch ({epoch+1}/{num_epochs}) train accuracy: {acc_train}, val accuracy: {acc_val}, train loss: {avg_train_loss}, val loss: {avg_val_loss}\")\n",
    "        \n",
    "    return train_loss, val_loss, train_acc, val_acc"
   ],
   "id": "36b96e6ce1f3ad3b",
   "outputs": [],
   "execution_count": 7
  },
  {
   "metadata": {
    "ExecuteTime": {
     "end_time": "2025-04-05T20:28:52.212324Z",
     "start_time": "2025-04-05T20:28:52.202431Z"
    }
   },
   "cell_type": "code",
   "source": [
    "def plot_training_curve(train_acc, val_acc, train_loss, val_loss):\n",
    "    threshold = 95\n",
    "    plt.figure(figsize=(10, 6))\n",
    "    plt.plot(train_acc, label='Train Accuracy')\n",
    "    plt.plot(val_acc, label='Validation Accuracy')\n",
    "    plt.plot(train_loss, label='Train Loss')\n",
    "    plt.plot(val_loss, label='Validation Loss')\n",
    "    \n",
    "    plt.axhline(y=threshold, color='r', linestyle='--', label='Threshold (95%)')\n",
    "    \n",
    "    plt.xlabel(\"Epoch\")\n",
    "    plt.ylabel(\"Metric\")\n",
    "    plt.title(\"Training & Validation Metrics\")\n",
    "    plt.legend()\n",
    "    plt.grid(True)\n",
    "    plt.show()"
   ],
   "id": "8ea7a438baef8fc0",
   "outputs": [],
   "execution_count": 8
  },
  {
   "metadata": {
    "ExecuteTime": {
     "end_time": "2025-04-05T21:36:54.265381Z",
     "start_time": "2025-04-05T20:28:52.246005Z"
    }
   },
   "cell_type": "code",
   "source": [
    "train_loss, val_loss, train_acc, val_acc = train(model, num_epochs=30)\n",
    "plot_training_curve(train_acc, val_acc, train_loss, val_loss)"
   ],
   "id": "27baadf7c37cd8d1",
   "outputs": [
    {
     "name": "stderr",
     "output_type": "stream",
     "text": [
      "100%|██████████| 82/82 [02:02<00:00,  1.50s/it]\n",
      "100%|██████████| 21/21 [00:14<00:00,  1.44it/s]\n"
     ]
    },
    {
     "name": "stdout",
     "output_type": "stream",
     "text": [
      "Epoch (1/30) train accuracy: 6.597422581265628, val accuracy: 13.23076923076923, train loss: 3.930920545647784, val loss: 15.349308797291346\n"
     ]
    },
    {
     "name": "stderr",
     "output_type": "stream",
     "text": [
      "100%|██████████| 82/82 [02:01<00:00,  1.48s/it]\n",
      "100%|██████████| 21/21 [00:14<00:00,  1.48it/s]\n"
     ]
    },
    {
     "name": "stdout",
     "output_type": "stream",
     "text": [
      "Epoch (2/30) train accuracy: 22.061934987497597, val accuracy: 26.692307692307693, train loss: 2.9614560080737604, val loss: 11.563780602954683\n"
     ]
    },
    {
     "name": "stderr",
     "output_type": "stream",
     "text": [
      "100%|██████████| 82/82 [01:59<00:00,  1.46s/it]\n",
      "100%|██████████| 21/21 [00:14<00:00,  1.48it/s]\n"
     ]
    },
    {
     "name": "stdout",
     "output_type": "stream",
     "text": [
      "Epoch (3/30) train accuracy: 35.29524908636276, val accuracy: 35.61538461538461, train loss: 2.4088732789202436, val loss: 9.406076612926665\n"
     ]
    },
    {
     "name": "stderr",
     "output_type": "stream",
     "text": [
      "100%|██████████| 82/82 [02:00<00:00,  1.46s/it]\n",
      "100%|██████████| 21/21 [00:14<00:00,  1.47it/s]\n"
     ]
    },
    {
     "name": "stdout",
     "output_type": "stream",
     "text": [
      "Epoch (4/30) train accuracy: 43.27755337564916, val accuracy: 40.07692307692308, train loss: 2.0756550445789244, val loss: 8.104938745498657\n"
     ]
    },
    {
     "name": "stderr",
     "output_type": "stream",
     "text": [
      "100%|██████████| 82/82 [01:57<00:00,  1.44s/it]\n",
      "100%|██████████| 21/21 [00:14<00:00,  1.46it/s]\n"
     ]
    },
    {
     "name": "stdout",
     "output_type": "stream",
     "text": [
      "Epoch (5/30) train accuracy: 48.874783612233124, val accuracy: 44.84615384615385, train loss: 1.8535829084675486, val loss: 7.237799928301857\n"
     ]
    },
    {
     "name": "stderr",
     "output_type": "stream",
     "text": [
      "100%|██████████| 82/82 [01:59<00:00,  1.45s/it]\n",
      "100%|██████████| 21/21 [00:14<00:00,  1.43it/s]\n"
     ]
    },
    {
     "name": "stdout",
     "output_type": "stream",
     "text": [
      "Epoch (6/30) train accuracy: 52.77938065012503, val accuracy: 47.23076923076923, train loss: 1.6701579588215525, val loss: 6.521569172541301\n"
     ]
    },
    {
     "name": "stderr",
     "output_type": "stream",
     "text": [
      "100%|██████████| 82/82 [01:58<00:00,  1.45s/it]\n",
      "100%|██████████| 21/21 [00:14<00:00,  1.42it/s]\n"
     ]
    },
    {
     "name": "stdout",
     "output_type": "stream",
     "text": [
      "Epoch (7/30) train accuracy: 55.70301981150221, val accuracy: 47.76923076923077, train loss: 1.5480606817617648, val loss: 6.044808376403082\n"
     ]
    },
    {
     "name": "stderr",
     "output_type": "stream",
     "text": [
      "100%|██████████| 82/82 [01:58<00:00,  1.45s/it]\n",
      "100%|██████████| 21/21 [00:14<00:00,  1.47it/s]\n"
     ]
    },
    {
     "name": "stdout",
     "output_type": "stream",
     "text": [
      "Epoch (8/30) train accuracy: 59.011348336218504, val accuracy: 51.84615384615385, train loss: 1.4126287815047474, val loss: 5.515979051589966\n"
     ]
    },
    {
     "name": "stderr",
     "output_type": "stream",
     "text": [
      "100%|██████████| 82/82 [01:59<00:00,  1.45s/it]\n",
      "100%|██████████| 21/21 [00:14<00:00,  1.49it/s]\n"
     ]
    },
    {
     "name": "stdout",
     "output_type": "stream",
     "text": [
      "Epoch (9/30) train accuracy: 60.74245047124447, val accuracy: 51.84615384615385, train loss: 1.337847757630232, val loss: 5.223976958365667\n"
     ]
    },
    {
     "name": "stderr",
     "output_type": "stream",
     "text": [
      "100%|██████████| 82/82 [02:00<00:00,  1.47s/it]\n",
      "100%|██████████| 21/21 [00:14<00:00,  1.44it/s]\n"
     ]
    },
    {
     "name": "stdout",
     "output_type": "stream",
     "text": [
      "Epoch (10/30) train accuracy: 62.22350452010002, val accuracy: 51.53846153846154, train loss: 1.268600393359254, val loss: 4.953582488355183\n"
     ]
    },
    {
     "name": "stderr",
     "output_type": "stream",
     "text": [
      "100%|██████████| 82/82 [01:59<00:00,  1.46s/it]\n",
      "100%|██████████| 21/21 [00:14<00:00,  1.46it/s]\n"
     ]
    },
    {
     "name": "stdout",
     "output_type": "stream",
     "text": [
      "Epoch (11/30) train accuracy: 64.9740334679746, val accuracy: 56.53846153846154, train loss: 1.193278697205753, val loss: 4.65946919861294\n"
     ]
    },
    {
     "name": "stderr",
     "output_type": "stream",
     "text": [
      "100%|██████████| 82/82 [01:59<00:00,  1.46s/it]\n",
      "100%|██████████| 21/21 [00:14<00:00,  1.47it/s]\n"
     ]
    },
    {
     "name": "stdout",
     "output_type": "stream",
     "text": [
      "Epoch (12/30) train accuracy: 66.97441815733795, val accuracy: 52.07692307692308, train loss: 1.1115767774058551, val loss: 4.340442654632387\n"
     ]
    },
    {
     "name": "stderr",
     "output_type": "stream",
     "text": [
      "100%|██████████| 82/82 [02:01<00:00,  1.48s/it]\n",
      "100%|██████████| 21/21 [00:14<00:00,  1.47it/s]\n"
     ]
    },
    {
     "name": "stdout",
     "output_type": "stream",
     "text": [
      "Epoch (13/30) train accuracy: 68.18618965185613, val accuracy: 55.53846153846154, train loss: 1.078426190265795, val loss: 4.21099750484739\n"
     ]
    },
    {
     "name": "stderr",
     "output_type": "stream",
     "text": [
      "100%|██████████| 82/82 [01:59<00:00,  1.45s/it]\n",
      "100%|██████████| 21/21 [00:14<00:00,  1.46it/s]\n"
     ]
    },
    {
     "name": "stdout",
     "output_type": "stream",
     "text": [
      "Epoch (14/30) train accuracy: 69.16714752837085, val accuracy: 57.0, train loss: 1.0251441299915314, val loss: 4.002943745681217\n"
     ]
    },
    {
     "name": "stderr",
     "output_type": "stream",
     "text": [
      "100%|██████████| 82/82 [01:59<00:00,  1.45s/it]\n",
      "100%|██████████| 21/21 [00:14<00:00,  1.42it/s]\n"
     ]
    },
    {
     "name": "stdout",
     "output_type": "stream",
     "text": [
      "Epoch (15/30) train accuracy: 71.85997307174456, val accuracy: 58.23076923076923, train loss: 0.9300406000963072, val loss: 3.631587105137961\n"
     ]
    },
    {
     "name": "stderr",
     "output_type": "stream",
     "text": [
      "100%|██████████| 82/82 [02:01<00:00,  1.48s/it]\n",
      "100%|██████████| 21/21 [00:14<00:00,  1.45it/s]\n"
     ]
    },
    {
     "name": "stdout",
     "output_type": "stream",
     "text": [
      "Epoch (16/30) train accuracy: 72.76399307559146, val accuracy: 58.53846153846154, train loss: 0.8807163776420965, val loss: 3.438987760316758\n"
     ]
    },
    {
     "name": "stderr",
     "output_type": "stream",
     "text": [
      "100%|██████████| 82/82 [01:59<00:00,  1.46s/it]\n",
      "100%|██████████| 21/21 [00:14<00:00,  1.47it/s]\n"
     ]
    },
    {
     "name": "stdout",
     "output_type": "stream",
     "text": [
      "Epoch (17/30) train accuracy: 73.72571648393922, val accuracy: 60.0, train loss: 0.864645333551779, val loss: 3.376234159583137\n"
     ]
    },
    {
     "name": "stderr",
     "output_type": "stream",
     "text": [
      "100%|██████████| 82/82 [01:59<00:00,  1.45s/it]\n",
      "100%|██████████| 21/21 [00:14<00:00,  1.45it/s]\n"
     ]
    },
    {
     "name": "stdout",
     "output_type": "stream",
     "text": [
      "Epoch (18/30) train accuracy: 75.45681861896519, val accuracy: 59.0, train loss: 0.7871984177973212, val loss: 3.073822393303826\n"
     ]
    },
    {
     "name": "stderr",
     "output_type": "stream",
     "text": [
      "100%|██████████| 82/82 [01:59<00:00,  1.45s/it]\n",
      "100%|██████████| 21/21 [00:14<00:00,  1.46it/s]\n"
     ]
    },
    {
     "name": "stdout",
     "output_type": "stream",
     "text": [
      "Epoch (19/30) train accuracy: 76.70705904981727, val accuracy: 61.23076923076923, train loss: 0.7782333642244339, val loss: 3.0388159936382655\n"
     ]
    },
    {
     "name": "stderr",
     "output_type": "stream",
     "text": [
      "100%|██████████| 82/82 [02:01<00:00,  1.48s/it]\n",
      "100%|██████████| 21/21 [00:15<00:00,  1.33it/s]\n"
     ]
    },
    {
     "name": "stdout",
     "output_type": "stream",
     "text": [
      "Epoch (20/30) train accuracy: 76.57241777264859, val accuracy: 59.53846153846154, train loss: 0.7527286813753408, val loss: 2.939226279656092\n"
     ]
    },
    {
     "name": "stderr",
     "output_type": "stream",
     "text": [
      "100%|██████████| 82/82 [02:03<00:00,  1.51s/it]\n",
      "100%|██████████| 21/21 [00:15<00:00,  1.40it/s]\n"
     ]
    },
    {
     "name": "stdout",
     "output_type": "stream",
     "text": [
      "Epoch (21/30) train accuracy: 79.14983650702058, val accuracy: 60.61538461538461, train loss: 0.6874251431081353, val loss: 2.6842315111841475\n"
     ]
    },
    {
     "name": "stderr",
     "output_type": "stream",
     "text": [
      "100%|██████████| 82/82 [02:08<00:00,  1.57s/it]\n",
      "100%|██████████| 21/21 [00:15<00:00,  1.38it/s]\n"
     ]
    },
    {
     "name": "stdout",
     "output_type": "stream",
     "text": [
      "Epoch (22/30) train accuracy: 79.20753991152145, val accuracy: 61.15384615384615, train loss: 0.6654807263758125, val loss: 2.598543788705553\n"
     ]
    },
    {
     "name": "stderr",
     "output_type": "stream",
     "text": [
      "100%|██████████| 82/82 [02:05<00:00,  1.53s/it]\n",
      "100%|██████████| 21/21 [00:16<00:00,  1.31it/s]\n"
     ]
    },
    {
     "name": "stdout",
     "output_type": "stream",
     "text": [
      "Epoch (23/30) train accuracy: 80.82323523754569, val accuracy: 61.0, train loss: 0.6169776527619943, val loss: 2.409150834594454\n"
     ]
    },
    {
     "name": "stderr",
     "output_type": "stream",
     "text": [
      "100%|██████████| 82/82 [02:04<00:00,  1.52s/it]\n",
      "100%|██████████| 21/21 [00:15<00:00,  1.37it/s]\n"
     ]
    },
    {
     "name": "stdout",
     "output_type": "stream",
     "text": [
      "Epoch (24/30) train accuracy: 80.70782842854395, val accuracy: 60.07692307692308, train loss: 0.6150612671200822, val loss: 2.401667804945083\n"
     ]
    },
    {
     "name": "stderr",
     "output_type": "stream",
     "text": [
      "100%|██████████| 82/82 [02:03<00:00,  1.51s/it]\n",
      "100%|██████████| 21/21 [00:15<00:00,  1.38it/s]\n"
     ]
    },
    {
     "name": "stdout",
     "output_type": "stream",
     "text": [
      "Epoch (25/30) train accuracy: 82.43893056356991, val accuracy: 61.0, train loss: 0.5493759124017343, val loss: 2.1451821341401054\n"
     ]
    },
    {
     "name": "stderr",
     "output_type": "stream",
     "text": [
      "100%|██████████| 82/82 [02:04<00:00,  1.51s/it]\n",
      "100%|██████████| 21/21 [00:15<00:00,  1.37it/s]\n"
     ]
    },
    {
     "name": "stdout",
     "output_type": "stream",
     "text": [
      "Epoch (26/30) train accuracy: 82.70821311790729, val accuracy: 60.0, train loss: 0.5525837024537529, val loss: 2.1577077905337014\n"
     ]
    },
    {
     "name": "stderr",
     "output_type": "stream",
     "text": [
      "100%|██████████| 82/82 [02:01<00:00,  1.48s/it]\n",
      "100%|██████████| 21/21 [00:15<00:00,  1.34it/s]\n"
     ]
    },
    {
     "name": "stdout",
     "output_type": "stream",
     "text": [
      "Epoch (27/30) train accuracy: 82.9582612040777, val accuracy: 60.84615384615385, train loss: 0.5375487946155595, val loss: 2.0990000551655177\n"
     ]
    },
    {
     "name": "stderr",
     "output_type": "stream",
     "text": [
      "100%|██████████| 82/82 [02:02<00:00,  1.50s/it]\n",
      "100%|██████████| 21/21 [00:14<00:00,  1.43it/s]\n"
     ]
    },
    {
     "name": "stdout",
     "output_type": "stream",
     "text": [
      "Epoch (28/30) train accuracy: 84.90094248894017, val accuracy: 61.92307692307692, train loss: 0.4880849306539791, val loss: 1.9058554435060138\n"
     ]
    },
    {
     "name": "stderr",
     "output_type": "stream",
     "text": [
      "100%|██████████| 82/82 [02:03<00:00,  1.51s/it]\n",
      "100%|██████████| 21/21 [00:15<00:00,  1.38it/s]\n"
     ]
    },
    {
     "name": "stdout",
     "output_type": "stream",
     "text": [
      "Epoch (29/30) train accuracy: 84.4200807847663, val accuracy: 61.61538461538461, train loss: 0.4854597690992239, val loss: 1.89560481267316\n"
     ]
    },
    {
     "name": "stderr",
     "output_type": "stream",
     "text": [
      "100%|██████████| 82/82 [02:03<00:00,  1.51s/it]\n",
      "100%|██████████| 21/21 [00:15<00:00,  1.39it/s]\n"
     ]
    },
    {
     "name": "stdout",
     "output_type": "stream",
     "text": [
      "Epoch (30/30) train accuracy: 86.45893441046356, val accuracy: 61.92307692307692, train loss: 0.44214113928922794, val loss: 1.7264558772246044\n"
     ]
    },
    {
     "data": {
      "text/plain": [
       "<Figure size 1000x600 with 1 Axes>"
      ],
      "image/png": "[encoded data removed]"
     },
     "metadata": {},
     "output_type": "display_data"
    }
   ],
   "execution_count": 9
  },
  {
   "metadata": {
    "ExecuteTime": {
     "end_time": "2025-04-05T21:36:54.308284Z",
     "start_time": "2025-04-05T21:36:54.303936Z"
    }
   },
   "cell_type": "code",
   "source": "",
   "id": "5d2896266d749314",
   "outputs": [],
   "execution_count": null
  }
 ],
 "metadata": {
  "kernelspec": {
   "display_name": "Python 3",
   "language": "python",
   "name": "python3"
  },
  "language_info": {
   "codemirror_mode": {
    "name": "ipython",
    "version": 2
   },
   "file_extension": ".py",
   "mimetype": "text/x-python",
   "name": "python",
   "nbconvert_exporter": "python",
   "pygments_lexer": "ipython2",
   "version": "2.7.6"
  }
 },
 "nbformat": 4,
 "nbformat_minor": 5
}
